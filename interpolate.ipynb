{
  "nbformat": 4,
  "nbformat_minor": 0,
  "metadata": {
    "colab": {
      "name": "interpolate.ipynb",
      "provenance": [],
      "collapsed_sections": [],
      "toc_visible": true,
      "authorship_tag": "ABX9TyMm1zRlfseuOiWA/norXxxW",
      "include_colab_link": true
    },
    "kernelspec": {
      "name": "python3",
      "display_name": "Python 3"
    },
    "language_info": {
      "name": "python"
    }
  },
  "cells": [
    {
      "cell_type": "markdown",
      "metadata": {
        "id": "view-in-github",
        "colab_type": "text"
      },
      "source": [
        "<a href=\"https://colab.research.google.com/github/KriseevM/SCM_task6/blob/master/interpolate.ipynb\" target=\"_parent\"><img src=\"https://colab.research.google.com/assets/colab-badge.svg\" alt=\"Open In Colab\"/></a>"
      ]
    },
    {
      "cell_type": "markdown",
      "source": [
        "# Интерполяция параметрически заданной функции\n",
        "## Задача: \n",
        "Рассмотрим задачу поиска интерполирующей кривой по точкам\n",
        "$p_1, p_2, \\dots, p_n$, $p_i = (x_i, y_i)$ ($i=1,\\dots,n$).\n",
        "Предположим, что форму этой кривой\n",
        "нельзя описать функцией вида $y=f(x)$. Например, этого нельзя сделать\n",
        "для кривой в форме буквы S и др. (функция была бы неоднозначной).\n",
        "\n",
        "Нарисуйте букву S (или любую другую) и измерьте координаты $8$ точек $p_i$,\n",
        "лежащих на ней. Интерполируйте эти данные\n",
        " * кубическим интерполянтом;\n",
        " * кубическим сплайном.\n",
        " \n",
        "Изобразите полученные кривые и сравните результаты."
      ],
      "metadata": {
        "id": "8LPAKNaEL6aU"
      }
    },
    {
      "cell_type": "markdown",
      "source": [
        "## 1. Подготовка\n",
        "\n",
        "Нам нужно задать координаты 8 точек нашей будущей кривой (буквы S)"
      ],
      "metadata": {
        "id": "nL66nJDeeOSt"
      }
    },
    {
      "cell_type": "code",
      "source": [
        "import matplotlib.pyplot as plt\n",
        "import numpy as np\n",
        "from numpy.polynomial.polynomial import Polynomial as poly\n",
        "from scipy import interpolate\n",
        "%matplotlib inline"
      ],
      "metadata": {
        "id": "yG5pg9jGe_uj"
      },
      "execution_count": 19,
      "outputs": []
    },
    {
      "cell_type": "code",
      "source": [
        "x = np.array([3, 2, 1, .5, 3, 2.5, 1.5, .5])\n",
        "y = np.array([4, 5, 5, 4, 2, 1, 1, 2])"
      ],
      "metadata": {
        "id": "rFy7TShcfkGI"
      },
      "execution_count": 120,
      "outputs": []
    },
    {
      "cell_type": "markdown",
      "source": [
        "Изобразим эти точки, чтобы убедиться в правильности их расположения. Просто соединив эти точки, получаем изображание угловатой буквы S, что нам подходит."
      ],
      "metadata": {
        "id": "tJkeWNoamSvk"
      }
    },
    {
      "cell_type": "code",
      "source": [
        "plt.axis('equal')\n",
        "plt.plot(x, y, '-', x, y, 'or')\n",
        "pass"
      ],
      "metadata": {
        "colab": {
          "base_uri": "https://localhost:8080/",
          "height": 265
        },
        "id": "17KCmDOIkRCH",
        "outputId": "4d9b82cc-1a64-44ba-fc93-06fc28ccf047"
      },
      "execution_count": 121,
      "outputs": [
        {
          "output_type": "display_data",
          "data": {
            "text/plain": [
              "<Figure size 432x288 with 1 Axes>"
            ],
            "image/png": "[encoded data removed]"
          },
          "metadata": {
            "needs_background": "light"
          }
        }
      ]
    },
    {
      "cell_type": "markdown",
      "source": [
        "## Решение первым способом\n",
        "Для решения задачи можно рассмотреть два набора данных $(i, x_i)$ и $(i, y_i)$, где $i = 1, 2, ..., n$\n",
        "\n",
        "Если их независимо интерполировать функциями $f(t)$ и $g(t)$, то получим параметрически заданную кривую:\n",
        "\n",
        "$$\n",
        "\\left\\{\n",
        "\\begin{array}{l}\n",
        "x=f(t) \\\\\n",
        "y=g(t)\n",
        "\\end{array}\n",
        "\\right.\n",
        "$$\n",
        "\n",
        "Эта кривая и будет интерполировать наши данные."
      ],
      "metadata": {
        "id": "lryauVaunY2s"
      }
    },
    {
      "cell_type": "markdown",
      "source": [
        "Создадим массив значений $i$ и точек $t$:"
      ],
      "metadata": {
        "id": "OJbqs-rLsdPi"
      }
    },
    {
      "cell_type": "code",
      "source": [
        "i = np.array([1, 2, 3, 4, 5, 6, 7, 8])\n",
        "t = np.linspace(1, 8, 500)"
      ],
      "metadata": {
        "id": "6rNoEGyXsw3o"
      },
      "execution_count": 61,
      "outputs": []
    },
    {
      "cell_type": "markdown",
      "source": [
        "Интерполируем их кубическим интерполянтом:"
      ],
      "metadata": {
        "id": "dPTG2zdtwZIl"
      }
    },
    {
      "cell_type": "code",
      "source": [
        "f = np.polyfit(i, x, 3)\n",
        "g = np.polyfit(i, y, 3)\n",
        "xx = np.polyval(f, t)\n",
        "yy = np.polyval(g, t)\n",
        "plt.axis('equal')\n",
        "plt.plot(xx, yy, '-b', x, y, 'or')"
      ],
      "metadata": {
        "colab": {
          "base_uri": "https://localhost:8080/",
          "height": 300
        },
        "id": "2pLDl-PVwZ4E",
        "outputId": "4c5ad274-bb5a-4ce2-e2c5-8eeea5cefc02"
      },
      "execution_count": 122,
      "outputs": [
        {
          "output_type": "execute_result",
          "data": {
            "text/plain": [
              "[<matplotlib.lines.Line2D at 0x7f4ce4e250d0>,\n",
              " <matplotlib.lines.Line2D at 0x7f4ce4e252d0>]"
            ]
          },
          "metadata": {},
          "execution_count": 122
        },
        {
          "output_type": "display_data",
          "data": {
            "text/plain": [
              "<Figure size 432x288 with 1 Axes>"
            ],
            "image/png": "[encoded data removed]"
          },
          "metadata": {
            "needs_background": "light"
          }
        }
      ]
    },
    {
      "cell_type": "markdown",
      "source": [
        "Как можно видеть, в целом кривая похожа на очень кривую цифру 6, но всё же она очень далека от заданных точек "
      ],
      "metadata": {
        "id": "NUPLAHJR3xsC"
      }
    },
    {
      "cell_type": "markdown",
      "source": [
        "Интерполируем теперь кубическим сплайном:"
      ],
      "metadata": {
        "id": "hhZNNfaI44YB"
      }
    },
    {
      "cell_type": "code",
      "source": [
        "f = interpolate.interp1d(i, x, kind='cubic')\n",
        "g = interpolate.interp1d(i, y, kind='cubic')\n",
        "xx = f(t)\n",
        "yy = g(t)\n",
        "plt.axis('equal')\n",
        "plt.plot(xx, yy, '-b', x, y, 'or')"
      ],
      "metadata": {
        "colab": {
          "base_uri": "https://localhost:8080/",
          "height": 300
        },
        "id": "CTTleju445Gt",
        "outputId": "35aa7926-a887-4d76-89a4-882091bc93bb"
      },
      "execution_count": 123,
      "outputs": [
        {
          "output_type": "execute_result",
          "data": {
            "text/plain": [
              "[<matplotlib.lines.Line2D at 0x7f4ce4d8d710>,\n",
              " <matplotlib.lines.Line2D at 0x7f4ce4d8d910>]"
            ]
          },
          "metadata": {},
          "execution_count": 123
        },
        {
          "output_type": "display_data",
          "data": {
            "text/plain": [
              "<Figure size 432x288 with 1 Axes>"
            ],
            "image/png": "[encoded data removed]"
          },
          "metadata": {
            "needs_background": "light"
          }
        }
      ]
    },
    {
      "cell_type": "markdown",
      "source": [
        "Кубический сплайн справился с задачей гораздо лучше, "
      ],
      "metadata": {
        "id": "Jqyl3u5FAeeW"
      }
    }
  ]
}